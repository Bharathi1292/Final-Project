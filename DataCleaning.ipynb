{
 "cells": [
  {
   "cell_type": "code",
   "execution_count": 0,
   "metadata": {
    "application/vnd.databricks.v1+cell": {
     "cellMetadata": {
      "byteLimit": 2048000,
      "rowLimit": 10000
     },
     "inputWidgets": {},
     "nuid": "2f55f994-4921-4fcb-9a61-29959cb23646",
     "showTitle": false,
     "tableResultSettingsMap": {},
     "title": ""
    }
   },
   "outputs": [
    {
     "output_type": "stream",
     "name": "stdout",
     "output_type": "stream",
     "text": [
      "+------+--------------+----------+----------+--------------+-----------+---------------+---------+-------------+---------------+----------+-----------+------+---------------+---------------+------------+--------------------+--------+\n|Row_ID|      Order_ID|Order_Date| Ship_Date|     Ship_Mode|Customer_ID|  Customer_Name|  Segment|      Country|           City|     State|Postal_Code|Region|     Product_ID|       Category|Sub-Category|        Product_Name|   Sales|\n+------+--------------+----------+----------+--------------+-----------+---------------+---------+-------------+---------------+----------+-----------+------+---------------+---------------+------------+--------------------+--------+\n|     1|CA-2017-152156|2017-11-08|2017-11-11|  Second Class|   CG-12520|    Claire Gute| Consumer|United States|      Henderson|  Kentucky|      42420| South|FUR-BO-10001798|      Furniture|   Bookcases|Bush Somerset Col...|  261.96|\n|     2|CA-2017-152156|2017-11-08|2017-11-11|  Second Class|   CG-12520|    Claire Gute| Consumer|United States|      Henderson|  Kentucky|      42420| South|FUR-CH-10000454|      Furniture|      Chairs|Hon Deluxe Fabric...|  731.94|\n|     3|CA-2017-138688|2017-06-12|2017-06-16|  Second Class|   DV-13045|Darrin Van Huff|Corporate|United States|    Los Angeles|California|      90036|  West|OFF-LA-10000240|Office Supplies|      Labels|Self-Adhesive Add...|   14.62|\n|     4|US-2016-108966|2016-10-11|2016-10-18|Standard Class|   SO-20335| Sean O'Donnell| Consumer|United States|Fort Lauderdale|   Florida|      33311| South|FUR-TA-10000577|      Furniture|      Tables|Bretford CR4500 S...|957.5775|\n|     5|US-2016-108966|2016-10-11|2016-10-18|Standard Class|   SO-20335| Sean O'Donnell| Consumer|United States|Fort Lauderdale|   Florida|      33311| South|OFF-ST-10000760|Office Supplies|     Storage|Eldon Fold 'N Rol...|  22.368|\n+------+--------------+----------+----------+--------------+-----------+---------------+---------+-------------+---------------+----------+-----------+------+---------------+---------------+------------+--------------------+--------+\nonly showing top 5 rows\n\n"
     ]
    }
   ],
   "source": [
    "# Load the Delta file from DBFS\n",
    "df = spark.read.format(\"delta\").load(\"/FileStore/delta/superstore_raw\")\n",
    "df.show(5)  # Display the first few rows to confirm it's loaded correctly\n"
   ]
  },
  {
   "cell_type": "code",
   "execution_count": 0,
   "metadata": {
    "application/vnd.databricks.v1+cell": {
     "cellMetadata": {
      "byteLimit": 2048000,
      "rowLimit": 10000
     },
     "inputWidgets": {},
     "nuid": "cb3b0cd7-6fd7-4683-b291-3aa13da46e12",
     "showTitle": false,
     "tableResultSettingsMap": {},
     "title": ""
    }
   },
   "outputs": [
    {
     "output_type": "stream",
     "name": "stdout",
     "output_type": "stream",
     "text": [
      "+------+--------------+----------+----------+--------------+-----------+---------------+---------+-------------+---------------+----------+-----------+------+---------------+---------------+------------+--------------------+--------+\n|Row_ID|      Order_ID|Order_Date| Ship_Date|     Ship_Mode|Customer_ID|  Customer_Name|  Segment|      Country|           City|     State|Postal_Code|Region|     Product_ID|       Category|Sub-Category|        Product_Name|   Sales|\n+------+--------------+----------+----------+--------------+-----------+---------------+---------+-------------+---------------+----------+-----------+------+---------------+---------------+------------+--------------------+--------+\n|     1|CA-2017-152156|2017-11-08|2017-11-11|  Second Class|   CG-12520|    Claire Gute| Consumer|United States|      Henderson|  Kentucky|      42420| South|FUR-BO-10001798|      Furniture|   Bookcases|Bush Somerset Col...|  261.96|\n|     2|CA-2017-152156|2017-11-08|2017-11-11|  Second Class|   CG-12520|    Claire Gute| Consumer|United States|      Henderson|  Kentucky|      42420| South|FUR-CH-10000454|      Furniture|      Chairs|Hon Deluxe Fabric...|  731.94|\n|     3|CA-2017-138688|2017-06-12|2017-06-16|  Second Class|   DV-13045|Darrin Van Huff|Corporate|United States|    Los Angeles|California|      90036|  West|OFF-LA-10000240|Office Supplies|      Labels|Self-Adhesive Add...|   14.62|\n|     4|US-2016-108966|2016-10-11|2016-10-18|Standard Class|   SO-20335| Sean O'Donnell| Consumer|United States|Fort Lauderdale|   Florida|      33311| South|FUR-TA-10000577|      Furniture|      Tables|Bretford CR4500 S...|957.5775|\n|     5|US-2016-108966|2016-10-11|2016-10-18|Standard Class|   SO-20335| Sean O'Donnell| Consumer|United States|Fort Lauderdale|   Florida|      33311| South|OFF-ST-10000760|Office Supplies|     Storage|Eldon Fold 'N Rol...|  22.368|\n+------+--------------+----------+----------+--------------+-----------+---------------+---------+-------------+---------------+----------+-----------+------+---------------+---------------+------------+--------------------+--------+\nonly showing top 5 rows\n\n+------+-----------+--------+----------+---------+---------+-----------+-------------+-------+-------+----+-----+------+----------+--------+------------+------------+-----+\n|Row_ID|Postal_Code|Order_ID|Order_Date|Ship_Date|Ship_Mode|Customer_ID|Customer_Name|Segment|Country|City|State|Region|Product_ID|Category|Sub-Category|Product_Name|Sales|\n+------+-----------+--------+----------+---------+---------+-----------+-------------+-------+-------+----+-----+------+----------+--------+------------+------------+-----+\n|     0|         11|       0|         0|        0|        0|          0|            0|      0|      0|   0|    0|     0|         0|       0|           0|           0|    0|\n+------+-----------+--------+----------+---------+---------+-----------+-------------+-------+-------+----+-----+------+----------+--------+------------+------------+-----+\n\n"
     ]
    }
   ],
   "source": [
    "# Count null values in each column and show the result without assignment\n",
    "# Create a DataFrame with null count for each column\n",
    "\n",
    "from pyspark.sql.functions import col, isnan, count, when\n",
    "from pyspark.sql.functions import col, isnan, count, when\n",
    "\n",
    "# Load the Delta file from DBFS\n",
    "df = spark.read.format(\"delta\").load(\"/FileStore/delta/superstore_raw\")\n",
    "\n",
    "# Display initial rows to confirm correct loading\n",
    "df.show(5)\n",
    "\n",
    "# Get column types to differentiate numeric and non-numeric columns\n",
    "numeric_cols = [c for c, t in df.dtypes if t in ('double', 'float', 'int')]\n",
    "non_numeric_cols = [c for c, t in df.dtypes if t not in ('double', 'float', 'int')]\n",
    "\n",
    "# Count nulls in numeric columns (using isnan and isNull)\n",
    "numeric_null_counts = [\n",
    "    count(when(isnan(col(c)) | col(c).isNull(), c)).alias(c)\n",
    "    for c in numeric_cols\n",
    "]\n",
    "\n",
    "# Count nulls in non-numeric columns (using only isNull)\n",
    "non_numeric_null_counts = [\n",
    "    count(when(col(c).isNull(), c)).alias(c)\n",
    "    for c in non_numeric_cols\n",
    "]\n",
    "\n",
    "# Combine the null count checks and display them\n",
    "df.select(numeric_null_counts + non_numeric_null_counts).show()\n",
    "\n"
   ]
  },
  {
   "cell_type": "code",
   "execution_count": 0,
   "metadata": {
    "application/vnd.databricks.v1+cell": {
     "cellMetadata": {
      "byteLimit": 2048000,
      "rowLimit": 10000
     },
     "inputWidgets": {},
     "nuid": "a13c1267-e5d8-4617-bf17-2dc5a9580668",
     "showTitle": false,
     "tableResultSettingsMap": {},
     "title": ""
    }
   },
   "outputs": [],
   "source": [
    "# Clean the data by filling null values in existing numeric columns\n",
    "# For instance, here we're filling 'Sales' with 0, but adjust based on your data inspection\n",
    "df_cleaned = df.fillna({'Sales': 0})\n",
    "\n",
    "# Drop rows with nulls in critical identifier columns\n",
    "df_cleaned = df_cleaned.dropna(subset=['Customer_ID', 'Product_ID'])\n",
    "\n",
    "# Save the cleaned DataFrame to Delta format\n",
    "df_cleaned.write.format(\"delta\").mode(\"overwrite\").save(\"/FileStore/delta/superstore_cleaned\")\n"
   ]
  },
  {
   "cell_type": "code",
   "execution_count": 0,
   "metadata": {
    "application/vnd.databricks.v1+cell": {
     "cellMetadata": {
      "byteLimit": 2048000,
      "rowLimit": 10000
     },
     "inputWidgets": {},
     "nuid": "81c63daa-29f2-490d-8b9b-c859e12c2e9e",
     "showTitle": false,
     "tableResultSettingsMap": {},
     "title": ""
    }
   },
   "outputs": [],
   "source": [
    "# Drop duplicate rows\n",
    "df = df.dropDuplicates()\n"
   ]
  },
  {
   "cell_type": "code",
   "execution_count": 0,
   "metadata": {
    "application/vnd.databricks.v1+cell": {
     "cellMetadata": {
      "byteLimit": 2048000,
      "rowLimit": 10000
     },
     "inputWidgets": {},
     "nuid": "0bb7d787-c217-4a30-8b90-fc36d68e3d40",
     "showTitle": false,
     "tableResultSettingsMap": {},
     "title": ""
    }
   },
   "outputs": [],
   "source": [
    "from pyspark.sql.functions import to_date\n",
    "\n",
    "# Convert 'Order Date' and 'Ship Date' to DateType\n",
    "df = df.withColumn('Order_Date', to_date(col('Order_Date'), 'MM/dd/yyyy'))\n",
    "df = df.withColumn('Ship_Date', to_date(col('Ship_Date'), 'MM/dd/yyyy'))\n"
   ]
  },
  {
   "cell_type": "code",
   "execution_count": 0,
   "metadata": {
    "application/vnd.databricks.v1+cell": {
     "cellMetadata": {
      "byteLimit": 2048000,
      "rowLimit": 10000
     },
     "inputWidgets": {},
     "nuid": "197c6ab4-a6fb-4513-bc74-2a94ae827aef",
     "showTitle": false,
     "tableResultSettingsMap": {},
     "title": ""
    }
   },
   "outputs": [],
   "source": [
    "df_cleaned = df.fillna({'Sales': 0})\n",
    "\n",
    "# Drop rows with nulls in critical identifier columns\n",
    "df_cleaned = df_cleaned.dropna(subset=['Customer_ID', 'Product_ID'])\n",
    "\n",
    "# Save the cleaned DataFrame to Delta format\n",
    "df_cleaned.write.format(\"delta\").mode(\"overwrite\").save(\"/FileStore/delta/superstore_cleaned\")\n"
   ]
  }
 ],
 "metadata": {
  "application/vnd.databricks.v1+notebook": {
   "dashboards": [],
   "environmentMetadata": null,
   "language": "python",
   "notebookMetadata": {
    "pythonIndentUnit": 4
   },
   "notebookName": "DataCleaning",
   "widgets": {}
  }
 },
 "nbformat": 4,
 "nbformat_minor": 0
}
