{
 "cells": [
  {
   "cell_type": "code",
   "execution_count": 0,
   "metadata": {
    "application/vnd.databricks.v1+cell": {
     "cellMetadata": {
      "byteLimit": 2048000,
      "rowLimit": 10000
     },
     "inputWidgets": {},
     "nuid": "30299729-97ad-48a7-ac93-c8bc52ca9319",
     "showTitle": false,
     "tableResultSettingsMap": {},
     "title": ""
    }
   },
   "outputs": [
    {
     "output_type": "stream",
     "name": "stdout",
     "output_type": "stream",
     "text": [
      "root\n |-- Row_ID: integer (nullable = true)\n |-- Order_ID: string (nullable = true)\n |-- Order_Date: date (nullable = true)\n |-- Ship_Date: date (nullable = true)\n |-- Ship_Mode: string (nullable = true)\n |-- Customer_ID: string (nullable = true)\n |-- Customer_Name: string (nullable = true)\n |-- Segment: string (nullable = true)\n |-- Country: string (nullable = true)\n |-- City: string (nullable = true)\n |-- State: string (nullable = true)\n |-- Postal_Code: integer (nullable = true)\n |-- Region: string (nullable = true)\n |-- Product_ID: string (nullable = true)\n |-- Category: string (nullable = true)\n |-- Sub-Category: string (nullable = true)\n |-- Product_Name: string (nullable = true)\n |-- Sales: float (nullable = true)\n |-- Order_Month: integer (nullable = true)\n |-- Order_Year: integer (nullable = true)\n\n+------+--------------+----------+----------+--------------+-----------+----------------+---------+-------------+--------------+----------+-----------+-------+---------------+---------------+------------+--------------------+--------+-----------+----------+\n|Row_ID|      Order_ID|Order_Date| Ship_Date|     Ship_Mode|Customer_ID|   Customer_Name|  Segment|      Country|          City|     State|Postal_Code| Region|     Product_ID|       Category|Sub-Category|        Product_Name|   Sales|Order_Month|Order_Year|\n+------+--------------+----------+----------+--------------+-----------+----------------+---------+-------------+--------------+----------+-----------+-------+---------------+---------------+------------+--------------------+--------+-----------+----------+\n|   155|CA-2016-124919|2016-05-31|2016-06-02|   First Class|   SP-20650|Stephanie Phelps|Corporate|United States|      San Jose|California|      95123|   West|OFF-PA-10002254|Office Supplies|       Paper|          Xerox 1883|  105.52|          5|      2016|\n|   165|CA-2015-139892|2015-09-08|2015-09-12|Standard Class|   BM-11140|    Becky Martin| Consumer|United States|   San Antonio|     Texas|      78207|Central|OFF-AR-10004441|Office Supplies|         Art|BIC Brite Liner H...|   9.936|          9|      2015|\n|   216|CA-2016-146262|2016-01-02|2016-01-09|Standard Class|   VW-21775| Victoria Wilson|Corporate|United States|        Medina|      Ohio|      44256|   East|TEC-MA-10000864|     Technology|    Machines|Cisco 9971 IP Vid...|  1188.0|          1|      2016|\n|   385|US-2016-168935|2016-11-27|2016-12-02|Standard Class|   DO-13435|    Denny Ordway| Consumer|United States|Pembroke Pines|   Florida|      33024|  South|FUR-TA-10000617|      Furniture|      Tables|Hon Practical Fou...|375.4575|         11|      2016|\n|   443|CA-2017-115756|2017-09-05|2017-09-07|  Second Class|   PK-19075|       Pete Kriz| Consumer|United States|       Detroit|  Michigan|      48227|Central|OFF-ST-10003058|Office Supplies|     Storage|Eldon Mobile Mega...|   70.95|          9|      2017|\n+------+--------------+----------+----------+--------------+-----------+----------------+---------+-------------+--------------+----------+-----------+-------+---------------+---------------+------------+--------------------+--------+-----------+----------+\nonly showing top 5 rows\n\n"
     ]
    }
   ],
   "source": [
    "from pyspark.sql.functions import col, month, year\n",
    "\n",
    "# Load data\n",
    "df = spark.read.format(\"delta\").load(\"/FileStore/delta/superstore_cleaned\")\n",
    "\n",
    "# Convert Sales column to float for calculations\n",
    "df = df.withColumn('Sales', col('Sales').cast('float'))\n",
    "\n",
    "# Add columns for Month and Year\n",
    "df = df.withColumn('Order_Month', month(col('Order_Date')))\n",
    "df = df.withColumn('Order_Year', year(col('Order_Date')))\n",
    "\n",
    "# Verify the changes\n",
    "df.printSchema()\n",
    "df.show(5)\n",
    "\n",
    "df.write.format(\"delta\").mode(\"overwrite\").save(\"/FileStore/delta/superstore_transformed\")\n",
    "\n"
   ]
  }
 ],
 "metadata": {
  "application/vnd.databricks.v1+notebook": {
   "dashboards": [],
   "environmentMetadata": null,
   "language": "python",
   "notebookMetadata": {
    "pythonIndentUnit": 2
   },
   "notebookName": "Data_Transform",
   "widgets": {}
  }
 },
 "nbformat": 4,
 "nbformat_minor": 0
}
