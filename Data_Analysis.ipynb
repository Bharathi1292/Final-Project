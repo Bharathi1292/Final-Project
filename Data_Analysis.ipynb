{
 "cells": [
  {
   "cell_type": "code",
   "execution_count": 0,
   "metadata": {
    "application/vnd.databricks.v1+cell": {
     "cellMetadata": {
      "byteLimit": 2048000,
      "rowLimit": 10000
     },
     "inputWidgets": {},
     "nuid": "dc00e884-a7bd-4b26-b9a7-243a7012e2f2",
     "showTitle": false,
     "tableResultSettingsMap": {},
     "title": ""
    }
   },
   "outputs": [
    {
     "output_type": "stream",
     "name": "stdout",
     "output_type": "stream",
     "text": [
      "+----------+-----------+------------------+\n|Order_Year|Order_Month|       Total_Sales|\n+----------+-----------+------------------+\n|      2015|          1|14130.160984992981|\n|      2015|          2|4119.8159548044205|\n|      2015|          3|55040.987458229065|\n|      2015|          4| 27751.07089471817|\n|      2015|          5| 23630.68287038803|\n|      2015|          6| 34298.34748792648|\n|      2015|          7|33336.022790551186|\n|      2015|          8|26811.580191135406|\n|      2015|          9| 81342.98330289125|\n|      2015|         10| 31394.94074845314|\n|      2015|         11| 77622.53452861309|\n|      2015|         12| 68001.27428495884|\n|      2016|          1|17977.997522592545|\n|      2016|          2|11924.271917104721|\n|      2016|          3|32234.358570575714|\n|      2016|          4| 32599.74250805378|\n|      2016|          5|29209.414824724197|\n|      2016|          6|23461.765960991383|\n|      2016|          7|   28377.822920084|\n|      2016|          8| 36300.93817472458|\n+----------+-----------+------------------+\nonly showing top 20 rows\n\n"
     ]
    }
   ],
   "source": [
    "######## Sales Over Time  #######\n",
    "##Analyze sales trends by month and year##\n",
    "\n",
    "from pyspark.sql.functions import year, month, sum\n",
    "\n",
    "# Read the data\n",
    "df = spark.read.format(\"delta\").load(\"/FileStore/delta/superstore_transformed\")\n",
    "\n",
    "# Extract Year and Month if not already present\n",
    "df = df.withColumn('Order_Year', year(df['Order_Date'])).withColumn('Order_Month', month(df['Order_Date']))\n",
    "\n",
    "# Ensure there are no nulls in critical columns\n",
    "df = df.filter(df['Sales'].isNotNull() & df['Order_Date'].isNotNull())\n",
    "\n",
    "# Calculate monthly sales and rename the column for clarity\n",
    "monthly_sales = df.groupBy('Order_Year', 'Order_Month') \\\n",
    "                  .agg(sum('Sales').alias('Total_Sales')) \\\n",
    "                  .orderBy('Order_Year', 'Order_Month')\n",
    "\n",
    "# Show the result\n",
    "monthly_sales.show()\n",
    "\n",
    "# Write the result to Delta format\n",
    "monthly_sales.write.format(\"delta\").mode(\"overwrite\").save(\"/FileStore/delta/monthly_sales\")\n",
    "\n"
   ]
  },
  {
   "cell_type": "code",
   "execution_count": 0,
   "metadata": {
    "application/vnd.databricks.v1+cell": {
     "cellMetadata": {
      "byteLimit": 2048000,
      "rowLimit": 10000
     },
     "inputWidgets": {},
     "nuid": "22832a89-3f2b-4de2-af6a-96443e99b1f7",
     "showTitle": false,
     "tableResultSettingsMap": {},
     "title": ""
    }
   },
   "outputs": [
    {
     "output_type": "stream",
     "name": "stdout",
     "output_type": "stream",
     "text": [
      "+--------------------+------------------+\n|        Product_Name|       Total_Sales|\n+--------------------+------------------+\n|Canon imageCLASS ...|   61599.822265625|\n|Fellowes PB500 El...|27453.384033203125|\n|Cisco TelePresenc...|    22638.48046875|\n|HON 5400 Series T...| 21870.57550048828|\n|GBC DocuBind TL30...|   19823.478515625|\n|GBC Ibimaster 500...|19024.500244140625|\n|Hewlett Packard L...|18839.685913085938|\n|\"HP Designjet T52...|18374.895263671875|\n|GBC DocuBind P400...| 17965.06787109375|\n|High Speed Automa...|17030.311767578125|\n+--------------------+------------------+\n\n"
     ]
    }
   ],
   "source": [
    "###########b. Top Products by Sales#######\n",
    "# Find top 10 products by sales\n",
    "from pyspark.sql.functions import col, sum\n",
    "\n",
    "# Group by Product_Name and calculate total sales\n",
    "top_products = df.groupBy('Product_Name') \\\n",
    "                 .agg(sum('Sales').alias('Total_Sales')) \\\n",
    "                 .orderBy(col('Total_Sales').desc()) \\\n",
    "                 .limit(10)\n",
    "\n",
    "# Show the result\n",
    "top_products.show()\n",
    "\n",
    "# Write the result to Delta format\n",
    "top_products.write.format(\"delta\").mode(\"overwrite\").save(\"/FileStore/delta/top_products\")\n",
    "\n"
   ]
  },
  {
   "cell_type": "code",
   "execution_count": 0,
   "metadata": {
    "application/vnd.databricks.v1+cell": {
     "cellMetadata": {
      "byteLimit": 2048000,
      "rowLimit": 10000
     },
     "inputWidgets": {},
     "nuid": "f63c4932-caaf-4ba9-963f-3c30a7e3a642",
     "showTitle": false,
     "tableResultSettingsMap": {},
     "title": ""
    }
   },
   "outputs": [
    {
     "output_type": "stream",
     "name": "stdout",
     "output_type": "stream",
     "text": [
      "Out[14]: ['Row_ID',\n 'Order_ID',\n 'Order_Date',\n 'Ship_Date',\n 'Ship_Mode',\n 'Customer_ID',\n 'Customer_Name',\n 'Segment',\n 'Country',\n 'City',\n 'State',\n 'Postal_Code',\n 'Region',\n 'Product_ID',\n 'Category',\n 'Sub-Category',\n 'Product_Name',\n 'Sales',\n 'Order_Month',\n 'Order_Year']"
     ]
    }
   ],
   "source": [
    "df.columns"
   ]
  },
  {
   "cell_type": "code",
   "execution_count": 0,
   "metadata": {
    "application/vnd.databricks.v1+cell": {
     "cellMetadata": {
      "byteLimit": 2048000,
      "rowLimit": 10000
     },
     "inputWidgets": {},
     "nuid": "d3b92f8d-8e1a-4e16-ba6b-1012327e006f",
     "showTitle": false,
     "tableResultSettingsMap": {},
     "title": ""
    }
   },
   "outputs": [
    {
     "output_type": "stream",
     "name": "stdout",
     "output_type": "stream",
     "text": [
      "+-------+------------------+\n| Region|       Total_Sales|\n+-------+------------------+\n|  South|386413.13934862614|\n|Central|489321.39007872343|\n|   East| 663043.8557248116|\n|   West| 698354.7733091116|\n+-------+------------------+\n\n"
     ]
    }
   ],
   "source": [
    "################ c. Regional Analysis ##########\n",
    "from pyspark.sql.functions import col, sum\n",
    "\n",
    "# Group by 'Region' and calculate total sales\n",
    "regional_performance = df.groupBy('Region') \\\n",
    "                          .agg(\n",
    "                              sum('Sales').alias('Total_Sales')\n",
    "                          )\n",
    "\n",
    "# Show the result\n",
    "regional_performance.show()\n",
    "\n",
    "# Write the result to Delta format\n",
    "regional_performance.write.format(\"delta\").mode(\"overwrite\").save(\"/FileStore/delta/regional_performance\")\n",
    "\n"
   ]
  },
  {
   "cell_type": "code",
   "execution_count": 0,
   "metadata": {
    "application/vnd.databricks.v1+cell": {
     "cellMetadata": {
      "byteLimit": 2048000,
      "rowLimit": 10000
     },
     "inputWidgets": {},
     "nuid": "6b62f1cd-f1cc-4468-bbac-debab866ed66",
     "showTitle": false,
     "tableResultSettingsMap": {},
     "title": ""
    }
   },
   "outputs": [
    {
     "output_type": "display_data",
     "data": {
      "text/html": [
       "<style scoped>\n",
       "  .table-result-container {\n",
       "    max-height: 300px;\n",
       "    overflow: auto;\n",
       "  }\n",
       "  table, th, td {\n",
       "    border: 1px solid black;\n",
       "    border-collapse: collapse;\n",
       "  }\n",
       "  th, td {\n",
       "    padding: 5px;\n",
       "  }\n",
       "  th {\n",
       "    text-align: left;\n",
       "  }\n",
       "</style><div class='table-result-container'><table class='table-result'><thead style='background-color: white'><tr><th>Order_Year</th><th>Order_Month</th><th>Total_Sales</th></tr></thead><tbody><tr><td>2015</td><td>1</td><td>14130.160984992981</td></tr><tr><td>2015</td><td>2</td><td>4119.8159548044205</td></tr><tr><td>2015</td><td>3</td><td>55040.987458229065</td></tr><tr><td>2015</td><td>4</td><td>27751.07089471817</td></tr><tr><td>2015</td><td>5</td><td>23630.68287038803</td></tr><tr><td>2015</td><td>6</td><td>34298.34748792648</td></tr><tr><td>2015</td><td>7</td><td>33336.022790551186</td></tr><tr><td>2015</td><td>8</td><td>26811.580191135406</td></tr><tr><td>2015</td><td>9</td><td>81342.98330289125</td></tr><tr><td>2015</td><td>10</td><td>31394.94074845314</td></tr><tr><td>2015</td><td>11</td><td>77622.53452861309</td></tr><tr><td>2015</td><td>12</td><td>68001.27428495884</td></tr><tr><td>2016</td><td>1</td><td>17977.997522592545</td></tr><tr><td>2016</td><td>2</td><td>11924.271917104721</td></tr><tr><td>2016</td><td>3</td><td>32234.358570575714</td></tr><tr><td>2016</td><td>4</td><td>32599.74250805378</td></tr><tr><td>2016</td><td>5</td><td>29209.414824724197</td></tr><tr><td>2016</td><td>6</td><td>23461.765960991383</td></tr><tr><td>2016</td><td>7</td><td>28377.822920084</td></tr><tr><td>2016</td><td>8</td><td>36300.93817472458</td></tr><tr><td>2016</td><td>9</td><td>62241.99027979374</td></tr><tr><td>2016</td><td>10</td><td>30988.96937775612</td></tr><tr><td>2016</td><td>11</td><td>73975.86918795109</td></tr><tr><td>2016</td><td>12</td><td>74102.55951952934</td></tr><tr><td>2017</td><td>1</td><td>18432.59100139141</td></tr><tr><td>2017</td><td>2</td><td>22706.41518688202</td></tr><tr><td>2017</td><td>3</td><td>50281.7331315279</td></tr><tr><td>2017</td><td>4</td><td>38516.86869049072</td></tr><tr><td>2017</td><td>5</td><td>56126.499276161194</td></tr><tr><td>2017</td><td>6</td><td>39008.1438511014</td></tr><tr><td>2017</td><td>7</td><td>38166.828043699265</td></tr><tr><td>2017</td><td>8</td><td>30441.228221297264</td></tr><tr><td>2017</td><td>9</td><td>67691.44681668282</td></tr><tr><td>2017</td><td>10</td><td>58032.102701187134</td></tr><tr><td>2017</td><td>11</td><td>78109.4315303564</td></tr><tr><td>2017</td><td>12</td><td>94815.14485871792</td></tr><tr><td>2018</td><td>1</td><td>43365.38553237915</td></tr><tr><td>2018</td><td>2</td><td>19882.18635904789</td></tr><tr><td>2018</td><td>3</td><td>58730.28352212906</td></tr><tr><td>2018</td><td>4</td><td>35040.54710173607</td></tr><tr><td>2018</td><td>5</td><td>43660.223949313164</td></tr><tr><td>2018</td><td>6</td><td>47451.56372773647</td></tr><tr><td>2018</td><td>7</td><td>44051.13589346409</td></tr><tr><td>2018</td><td>8</td><td>62360.36775839329</td></tr><tr><td>2018</td><td>9</td><td>84870.84174919128</td></tr><tr><td>2018</td><td>10</td><td>77213.69102716446</td></tr><tr><td>2018</td><td>11</td><td>116873.71067583561</td></tr><tr><td>2018</td><td>12</td><td>80428.68559384346</td></tr></tbody></table></div>"
      ]
     },
     "metadata": {
      "application/vnd.databricks.v1+output": {
       "addedWidgets": {},
       "aggData": [],
       "aggError": "",
       "aggOverflow": false,
       "aggSchema": [],
       "aggSeriesLimitReached": false,
       "aggType": "",
       "arguments": {},
       "columnCustomDisplayInfos": {},
       "data": [
        [
         2015,
         1,
         14130.160984992981
        ],
        [
         2015,
         2,
         4119.8159548044205
        ],
        [
         2015,
         3,
         55040.987458229065
        ],
        [
         2015,
         4,
         27751.07089471817
        ],
        [
         2015,
         5,
         23630.68287038803
        ],
        [
         2015,
         6,
         34298.34748792648
        ],
        [
         2015,
         7,
         33336.022790551186
        ],
        [
         2015,
         8,
         26811.580191135406
        ],
        [
         2015,
         9,
         81342.98330289125
        ],
        [
         2015,
         10,
         31394.94074845314
        ],
        [
         2015,
         11,
         77622.53452861309
        ],
        [
         2015,
         12,
         68001.27428495884
        ],
        [
         2016,
         1,
         17977.997522592545
        ],
        [
         2016,
         2,
         11924.271917104721
        ],
        [
         2016,
         3,
         32234.358570575714
        ],
        [
         2016,
         4,
         32599.74250805378
        ],
        [
         2016,
         5,
         29209.414824724197
        ],
        [
         2016,
         6,
         23461.765960991383
        ],
        [
         2016,
         7,
         28377.822920084
        ],
        [
         2016,
         8,
         36300.93817472458
        ],
        [
         2016,
         9,
         62241.99027979374
        ],
        [
         2016,
         10,
         30988.96937775612
        ],
        [
         2016,
         11,
         73975.86918795109
        ],
        [
         2016,
         12,
         74102.55951952934
        ],
        [
         2017,
         1,
         18432.59100139141
        ],
        [
         2017,
         2,
         22706.41518688202
        ],
        [
         2017,
         3,
         50281.7331315279
        ],
        [
         2017,
         4,
         38516.86869049072
        ],
        [
         2017,
         5,
         56126.499276161194
        ],
        [
         2017,
         6,
         39008.1438511014
        ],
        [
         2017,
         7,
         38166.828043699265
        ],
        [
         2017,
         8,
         30441.228221297264
        ],
        [
         2017,
         9,
         67691.44681668282
        ],
        [
         2017,
         10,
         58032.102701187134
        ],
        [
         2017,
         11,
         78109.4315303564
        ],
        [
         2017,
         12,
         94815.14485871792
        ],
        [
         2018,
         1,
         43365.38553237915
        ],
        [
         2018,
         2,
         19882.18635904789
        ],
        [
         2018,
         3,
         58730.28352212906
        ],
        [
         2018,
         4,
         35040.54710173607
        ],
        [
         2018,
         5,
         43660.223949313164
        ],
        [
         2018,
         6,
         47451.56372773647
        ],
        [
         2018,
         7,
         44051.13589346409
        ],
        [
         2018,
         8,
         62360.36775839329
        ],
        [
         2018,
         9,
         84870.84174919128
        ],
        [
         2018,
         10,
         77213.69102716446
        ],
        [
         2018,
         11,
         116873.71067583561
        ],
        [
         2018,
         12,
         80428.68559384346
        ]
       ],
       "datasetInfos": [],
       "dbfsResultPath": null,
       "isJsonSchema": true,
       "metadata": {},
       "overflow": false,
       "plotOptions": {
        "customPlotOptions": {},
        "displayType": "table",
        "pivotAggregation": null,
        "pivotColumns": null,
        "xColumns": null,
        "yColumns": null
       },
       "removedWidgets": [],
       "schema": [
        {
         "metadata": "{}",
         "name": "Order_Year",
         "type": "\"integer\""
        },
        {
         "metadata": "{}",
         "name": "Order_Month",
         "type": "\"integer\""
        },
        {
         "metadata": "{}",
         "name": "Total_Sales",
         "type": "\"double\""
        }
       ],
       "type": "table"
      }
     },
     "output_type": "display_data"
    }
   ],
   "source": [
    "# Visualize monthly sales trends\n",
    "display(monthly_sales)\n"
   ]
  }
 ],
 "metadata": {
  "application/vnd.databricks.v1+notebook": {
   "dashboards": [],
   "environmentMetadata": null,
   "language": "python",
   "notebookMetadata": {
    "pythonIndentUnit": 2
   },
   "notebookName": "Data_Analysis",
   "widgets": {}
  }
 },
 "nbformat": 4,
 "nbformat_minor": 0
}
